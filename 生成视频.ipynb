{
 "cells": [
  {
   "cell_type": "code",
   "execution_count": null,
   "id": "f85fe2e1-6f46-43c5-8705-e841304844a6",
   "metadata": {},
   "outputs": [],
   "source": [
    "8526b759612a90010597676c434c4cc7.EtBH17sTyvHY9ARP"
   ]
  },
  {
   "cell_type": "code",
   "execution_count": 43,
   "id": "6a601ebe-16f9-4e1e-8491-2455716a3ba9",
   "metadata": {},
   "outputs": [
    {
     "name": "stdout",
     "output_type": "stream",
     "text": [
      "VideoObject(id='70941732090433104-9221302892916453792', model='cogvideox', video_result=None, task_status='PROCESSING', request_id='-9221302892916453793')\n"
     ]
    }
   ],
   "source": [
    "from zhipuai import ZhipuAI\n",
    "client = ZhipuAI(api_key=\"8526b759612a90010597676c434c4cc7.EtBH17sTyvHY9ARP\") # 请填写您自己的APIKey\n",
    "response = client.videos.generations(\n",
    "    model=\"cogvideox\",\n",
    "    image_url = \"https://pic.616pic.com/ys_bnew_img/00/47/45/4zCuolUOVC.jpg\",\n",
    "    prompt=\"龙在天空中喷吐闪电与火焰\"\n",
    ")\n",
    "print(response)"
   ]
  },
  {
   "cell_type": "code",
   "execution_count": 10,
   "id": "f9cb18ce-220a-4fad-95b6-3c978a057406",
   "metadata": {},
   "outputs": [],
   "source": [
    "##id='70941732090433104-9221302446239586859'request_id='-9221302446239586860' model='cogvideox' task_status='PROCESSING'"
   ]
  },
  {
   "cell_type": "code",
   "execution_count": 53,
   "id": "1f6f0e93-2c54-4568-ad49-30deaf252d51",
   "metadata": {},
   "outputs": [
    {
     "name": "stdout",
     "output_type": "stream",
     "text": [
      "VideoObject(id=None, model='cogvideox', video_result=[VideoResult(url='https://aigc-files.bigmodel.cn/api/cogvideo/1bd47c98-a7df-11ef-bea3-fa5f52131d8b_0.mp4', cover_image_url='https://aigc-files.bigmodel.cn/api/cogvideo/1bd47c98-a7df-11ef-bea3-fa5f52131d8b_cover_0.jpeg')], task_status='SUCCESS', request_id='-9221302892916453793')\n"
     ]
    }
   ],
   "source": [
    "from zhipuai import ZhipuAI\n",
    "client = ZhipuAI(api_key=\"8526b759612a90010597676c434c4cc7.EtBH17sTyvHY9ARP\")# 请填写您自己的APIKey\n",
    "response = client.videos.retrieve_videos_result( \n",
    "    id=\"70941732090433104-9221302892916453792\" \n",
    ")    \n",
    "print (response)"
   ]
  },
  {
   "cell_type": "code",
   "execution_count": null,
   "id": "33eb186b-e355-463f-8af0-8c5bbe7f8d35",
   "metadata": {},
   "outputs": [],
   "source": []
  },
  {
   "cell_type": "code",
   "execution_count": null,
   "id": "5ccfdcfa-269f-46cc-931f-353f9b545620",
   "metadata": {},
   "outputs": [],
   "source": []
  },
  {
   "cell_type": "code",
   "execution_count": null,
   "id": "bcbc257b-3dc9-4062-93f0-609aea8a2d97",
   "metadata": {},
   "outputs": [],
   "source": []
  },
  {
   "cell_type": "code",
   "execution_count": null,
   "id": "a0b9c6a2-b2e4-44dd-a93f-318b6e7dc537",
   "metadata": {},
   "outputs": [],
   "source": []
  },
  {
   "cell_type": "code",
   "execution_count": null,
   "id": "a1c8c676-f139-4b3a-bf32-8aae47fa0c85",
   "metadata": {},
   "outputs": [],
   "source": []
  },
  {
   "cell_type": "code",
   "execution_count": null,
   "id": "9bd61932-cb99-49f0-8b01-0ff58d5edbbd",
   "metadata": {},
   "outputs": [],
   "source": []
  },
  {
   "cell_type": "code",
   "execution_count": null,
   "id": "bddd2e25-fb4e-42f8-bdfe-97b22e42e94c",
   "metadata": {},
   "outputs": [],
   "source": []
  },
  {
   "cell_type": "code",
   "execution_count": null,
   "id": "6c656bd1-51c8-4d33-b67b-d1b351f9b06b",
   "metadata": {},
   "outputs": [],
   "source": []
  },
  {
   "cell_type": "code",
   "execution_count": null,
   "id": "a2de0b0b-da65-4957-ba35-f02f40d313d1",
   "metadata": {},
   "outputs": [],
   "source": []
  },
  {
   "cell_type": "code",
   "execution_count": null,
   "id": "fec483d2-3fb4-4a6a-8ab6-9900326e73d9",
   "metadata": {},
   "outputs": [],
   "source": []
  },
  {
   "cell_type": "code",
   "execution_count": null,
   "id": "9453e5e9-ea45-4b62-a466-2e2e74c0593b",
   "metadata": {},
   "outputs": [],
   "source": []
  },
  {
   "cell_type": "code",
   "execution_count": null,
   "id": "614bfb80-e4d9-4675-b070-70189b60f04c",
   "metadata": {},
   "outputs": [],
   "source": []
  }
 ],
 "metadata": {
  "kernelspec": {
   "display_name": "Python 3 (ipykernel)",
   "language": "python",
   "name": "python3"
  },
  "language_info": {
   "codemirror_mode": {
    "name": "ipython",
    "version": 3
   },
   "file_extension": ".py",
   "mimetype": "text/x-python",
   "name": "python",
   "nbconvert_exporter": "python",
   "pygments_lexer": "ipython3",
   "version": "3.9.7"
  }
 },
 "nbformat": 4,
 "nbformat_minor": 5
}
