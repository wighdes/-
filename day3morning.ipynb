{
 "cells": [
  {
   "cell_type": "code",
   "execution_count": 6,
   "id": "a0cc48ec-9769-485b-b19b-aef583b093c3",
   "metadata": {},
   "outputs": [
    {
     "name": "stdout",
     "output_type": "stream",
     "text": [
      "导数值: 0.25\n"
     ]
    }
   ],
   "source": [
    "import torch\n",
    "def sigmoid(x):\n",
    "    return 1 / (1 + torch.exp(-x))\n",
    "def sigmoid_derivative(x):\n",
    "    s = sigmoid(x)\n",
    "    return s * (1 - s)\n",
    "x = torch.tensor([0.0], requires_grad=True)\n",
    "y_derivative = sigmoid_derivative(x)\n",
    "print(f\"导数值: {y_derivative.item()}\")\n"
   ]
  },
  {
   "cell_type": "code",
   "execution_count": 8,
   "id": "093dd9ea-3159-4e0a-89c1-97915b3ad105",
   "metadata": {},
   "outputs": [
    {
     "name": "stdout",
     "output_type": "stream",
     "text": [
      "x1梯度: 0.0\n",
      "x2梯度: 0.002896492835134268\n"
     ]
    }
   ],
   "source": [
    "import torch\n",
    "\n",
    "# 定义sigmoid函数\n",
    "def sigmoid(x):\n",
    "    return 1 / (1 + torch.exp(-x))\n",
    "\n",
    "def compute_graph(x1, x2):\n",
    "    term1 = x1**2 + 2*x2 + 1\n",
    "    sigmoid_term1 = sigmoid(term1)\n",
    "    term2 = x1**2 + 2*x2 + 1\n",
    "    sigmoid_term2 = sigmoid(term2)\n",
    "    \n",
    "    # 计算最终输出\n",
    "    y = sigmoid(3 * sigmoid_term1 + sigmoid_term2 + 1)\n",
    "    return y\n",
    "\n",
    "# 创建x1和x2的张量，并设置requires_grad=True以追踪梯度\n",
    "x1 = torch.tensor([0.0], requires_grad=True)\n",
    "x2 = torch.tensor([1.0], requires_grad=True)\n",
    "\n",
    "# 计算y的值\n",
    "y = compute_graph(x1, x2)\n",
    "\n",
    "# 计算梯度\n",
    "y.backward(torch.tensor([1.0]))\n",
    "\n",
    "# 打印梯度\n",
    "print(f\"x1梯度: {x1.grad.item()}\")\n",
    "print(f\"x2梯度: {x2.grad.item()}\")"
   ]
  },
  {
   "cell_type": "code",
   "execution_count": null,
   "id": "02ea922c-f7e8-47a5-9882-fef1e5257590",
   "metadata": {},
   "outputs": [],
   "source": []
  },
  {
   "cell_type": "code",
   "execution_count": null,
   "id": "f6c9563c-3cde-4623-8cdf-720744294a86",
   "metadata": {},
   "outputs": [],
   "source": []
  },
  {
   "cell_type": "code",
   "execution_count": null,
   "id": "aadf6bed-95a2-413f-bdfd-e1b756d6b3da",
   "metadata": {},
   "outputs": [],
   "source": []
  },
  {
   "cell_type": "code",
   "execution_count": null,
   "id": "80cec388-e37a-4b2a-b4a6-ddd9cd6dcdf3",
   "metadata": {},
   "outputs": [],
   "source": []
  },
  {
   "cell_type": "code",
   "execution_count": null,
   "id": "cbde259c-b774-480e-b4be-36da0b87119a",
   "metadata": {},
   "outputs": [],
   "source": []
  },
  {
   "cell_type": "code",
   "execution_count": null,
   "id": "ae08ff25-3ed3-4722-880e-54f945494381",
   "metadata": {},
   "outputs": [],
   "source": []
  },
  {
   "cell_type": "code",
   "execution_count": null,
   "id": "2ff09be7-e49e-4b05-906e-7949cced630e",
   "metadata": {},
   "outputs": [],
   "source": []
  },
  {
   "cell_type": "code",
   "execution_count": null,
   "id": "c97d448e-1d08-41c2-a3ff-bae0283f27d6",
   "metadata": {},
   "outputs": [],
   "source": []
  },
  {
   "cell_type": "code",
   "execution_count": null,
   "id": "dfb113a9-b165-4ea1-aef2-63c9704f6df9",
   "metadata": {},
   "outputs": [],
   "source": []
  },
  {
   "cell_type": "code",
   "execution_count": null,
   "id": "19c49bac-4acd-4345-aebc-9a059298e2db",
   "metadata": {},
   "outputs": [],
   "source": []
  },
  {
   "cell_type": "code",
   "execution_count": null,
   "id": "1a8641d5-134b-466d-bb74-0b0709bbc84a",
   "metadata": {},
   "outputs": [],
   "source": []
  },
  {
   "cell_type": "code",
   "execution_count": null,
   "id": "549fade5-3e8a-4794-8b5d-f16264e5b8b0",
   "metadata": {},
   "outputs": [],
   "source": []
  },
  {
   "cell_type": "code",
   "execution_count": null,
   "id": "4c8ebf5a-5f89-42f5-875d-5b759c65776a",
   "metadata": {},
   "outputs": [],
   "source": []
  },
  {
   "cell_type": "code",
   "execution_count": null,
   "id": "bf1477fe-045b-45a2-8aee-fb3e21702933",
   "metadata": {},
   "outputs": [],
   "source": []
  },
  {
   "cell_type": "code",
   "execution_count": null,
   "id": "0a3deeb8-13dd-4966-b56b-5733768574d7",
   "metadata": {},
   "outputs": [],
   "source": []
  },
  {
   "cell_type": "code",
   "execution_count": null,
   "id": "b5b99550-de0e-4250-8927-f0b4e7f4bdf5",
   "metadata": {},
   "outputs": [],
   "source": []
  },
  {
   "cell_type": "code",
   "execution_count": null,
   "id": "37f43c04-c6db-4169-92bc-989cc11200c7",
   "metadata": {},
   "outputs": [],
   "source": []
  },
  {
   "cell_type": "code",
   "execution_count": null,
   "id": "a4b6a0f0-b2c9-4921-8ca6-895a7238a7a6",
   "metadata": {},
   "outputs": [],
   "source": []
  },
  {
   "cell_type": "code",
   "execution_count": null,
   "id": "fc8a67c8-040c-4d31-80df-171c43b43305",
   "metadata": {},
   "outputs": [],
   "source": []
  },
  {
   "cell_type": "code",
   "execution_count": null,
   "id": "8f9f78fa-1640-4815-bed1-829e44db1f59",
   "metadata": {},
   "outputs": [],
   "source": []
  },
  {
   "cell_type": "code",
   "execution_count": null,
   "id": "03f3606b-76f4-47b9-ab94-5448af67f0da",
   "metadata": {},
   "outputs": [],
   "source": []
  }
 ],
 "metadata": {
  "kernelspec": {
   "display_name": "Python 3 (ipykernel)",
   "language": "python",
   "name": "python3"
  },
  "language_info": {
   "codemirror_mode": {
    "name": "ipython",
    "version": 3
   },
   "file_extension": ".py",
   "mimetype": "text/x-python",
   "name": "python",
   "nbconvert_exporter": "python",
   "pygments_lexer": "ipython3",
   "version": "3.9.7"
  }
 },
 "nbformat": 4,
 "nbformat_minor": 5
}
